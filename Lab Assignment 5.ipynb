{
 "cells": [
  {
   "cell_type": "markdown",
   "id": "f5bbb8c2",
   "metadata": {},
   "source": [
    "# 1. To create a new dictionary by merging two dictionaries."
   ]
  },
  {
   "cell_type": "code",
   "execution_count": 7,
   "id": "03f9b71b",
   "metadata": {},
   "outputs": [],
   "source": [
    "dict1 = {'a': 1, 'b': 2}\n",
    "dict2 = {'c': 3, 'd': 4}"
   ]
  },
  {
   "cell_type": "code",
   "execution_count": 8,
   "id": "442a19b0",
   "metadata": {},
   "outputs": [
    {
     "name": "stdout",
     "output_type": "stream",
     "text": [
      "Merged dictionary: {'a': 1, 'b': 2, 'c': 3, 'd': 4}\n"
     ]
    }
   ],
   "source": [
    "merged_dict = {**dict1, **dict2}\n",
    "print(\"Merged dictionary:\", merged_dict)"
   ]
  },
  {
   "cell_type": "markdown",
   "id": "9df29d7d",
   "metadata": {},
   "source": [
    "# 2. To create a dictionary and to check if a key exists in the dictionary. If the key exists, print the value else, add the key into the dictionary."
   ]
  },
  {
   "cell_type": "code",
   "execution_count": 10,
   "id": "f952e96e",
   "metadata": {},
   "outputs": [
    {
     "name": "stdout",
     "output_type": "stream",
     "text": [
      "Key added with default value: {'a': 'default'}\n"
     ]
    }
   ],
   "source": [
    "my_dict = {}\n",
    "\n",
    "key_to_check = 'a'\n",
    "\n",
    "if key_to_check in my_dict:\n",
    "    print(\"Value:\", my_dict[key_to_check])\n",
    "else:\n",
    "    my_dict[key_to_check] = 'default'\n",
    "    print(\"Key added with default value:\", my_dict)\n"
   ]
  },
  {
   "cell_type": "markdown",
   "id": "a056e600",
   "metadata": {},
   "source": [
    "# 3. To remove a key from a dictionary."
   ]
  },
  {
   "cell_type": "code",
   "execution_count": 11,
   "id": "b1a7291f",
   "metadata": {},
   "outputs": [
    {
     "name": "stdout",
     "output_type": "stream",
     "text": [
      "Key removed: {'a': 1, 'c': 3}\n"
     ]
    }
   ],
   "source": [
    "my_dict = {'a': 1, 'b': 2, 'c': 3}\n",
    "\n",
    "key_to_remove = 'b'\n",
    "\n",
    "if key_to_remove in my_dict:\n",
    "    del my_dict[key_to_remove]\n",
    "    print(\"Key removed:\", my_dict)\n",
    "else:\n",
    "    print(\"Key not found in the dictionary.\")\n"
   ]
  },
  {
   "cell_type": "markdown",
   "id": "62524ca5",
   "metadata": {},
   "source": [
    "# 4. To print a dictionary in ascending sorted order:\n"
   ]
  },
  {
   "cell_type": "code",
   "execution_count": null,
   "id": "517e9902",
   "metadata": {},
   "outputs": [],
   "source": [
    "my_dict = {'b': 2, 'a': 1, 'c': 3}"
   ]
  },
  {
   "cell_type": "markdown",
   "id": "506b3b97",
   "metadata": {},
   "source": [
    "### a. w.r.t keys."
   ]
  },
  {
   "cell_type": "code",
   "execution_count": 3,
   "id": "aedbf2f3",
   "metadata": {},
   "outputs": [
    {
     "name": "stdout",
     "output_type": "stream",
     "text": [
      "Dictionary sorted with respect to keys: {'a': 1, 'b': 2, 'c': 3}\n"
     ]
    }
   ],
   "source": [
    "sorted_dict_keys = {key: my_dict[key] for key in sorted(my_dict)}\n",
    "print(\"Dictionary sorted with respect to keys:\", sorted_dict_keys)\n"
   ]
  },
  {
   "cell_type": "markdown",
   "id": "174dc6f3",
   "metadata": {},
   "source": [
    "### b. w.r.t values."
   ]
  },
  {
   "cell_type": "code",
   "execution_count": 4,
   "id": "c9056c68",
   "metadata": {},
   "outputs": [
    {
     "name": "stdout",
     "output_type": "stream",
     "text": [
      "Dictionary sorted with respect to values: {'a': 1, 'b': 2, 'c': 3}\n"
     ]
    }
   ],
   "source": [
    "sorted_dict_values = {key: my_dict[key] for key in sorted(my_dict, key=my_dict.get)}\n",
    "print(\"Dictionary sorted with respect to values:\", sorted_dict_values)"
   ]
  },
  {
   "cell_type": "markdown",
   "id": "d943c7ba",
   "metadata": {},
   "source": [
    "# 5. To sum all the items in a dictionary."
   ]
  },
  {
   "cell_type": "code",
   "execution_count": 5,
   "id": "8e77a421",
   "metadata": {},
   "outputs": [
    {
     "name": "stdout",
     "output_type": "stream",
     "text": [
      "Sum of items in the dictionary: 6\n"
     ]
    }
   ],
   "source": [
    "my_dict = {'a': 1, 'b': 2, 'c': 3}\n",
    "total_sum = sum(my_dict.values())\n",
    "print(\"Sum of items in the dictionary:\", total_sum)"
   ]
  },
  {
   "cell_type": "markdown",
   "id": "65568d56",
   "metadata": {},
   "source": [
    "# 6. To convert a list of tuples into a dictionary."
   ]
  },
  {
   "cell_type": "code",
   "execution_count": 6,
   "id": "3f6e4806",
   "metadata": {},
   "outputs": [
    {
     "name": "stdout",
     "output_type": "stream",
     "text": [
      "Converted dictionary: {'a': 1, 'b': 2, 'c': 3}\n"
     ]
    }
   ],
   "source": [
    "list_of_tuples = [('a', 1), ('b', 2), ('c', 3)]\n",
    "converted_dict = dict(list_of_tuples)\n",
    "print(\"Converted dictionary:\", converted_dict)"
   ]
  },
  {
   "cell_type": "markdown",
   "id": "6b680089",
   "metadata": {},
   "source": [
    "# 7. To build a dictionary of words and their word counts in a sentence given by the user."
   ]
  },
  {
   "cell_type": "code",
   "execution_count": 16,
   "id": "8e3b879c",
   "metadata": {},
   "outputs": [
    {
     "name": "stdout",
     "output_type": "stream",
     "text": [
      "Enter a sentence: Long Language Models like BERT, using mean pooling for sentence embeddings can provide a reasonable representation of semantic similarity for short to medium-length sentences. However, for longer documents or contexts, more sophisticated methods might be needed to capture the nuanced semantics accurately.\n",
      "Dictionary of word counts: {'Long': 1, 'Language': 1, 'Models': 1, 'like': 1, 'BERT,': 1, 'using': 1, 'mean': 1, 'pooling': 1, 'for': 3, 'sentence': 1, 'embeddings': 1, 'can': 1, 'provide': 1, 'a': 1, 'reasonable': 1, 'representation': 1, 'of': 1, 'semantic': 1, 'similarity': 1, 'short': 1, 'to': 2, 'medium-length': 1, 'sentences.': 1, 'However,': 1, 'longer': 1, 'documents': 1, 'or': 1, 'contexts,': 1, 'more': 1, 'sophisticated': 1, 'methods': 1, 'might': 1, 'be': 1, 'needed': 1, 'capture': 1, 'the': 1, 'nuanced': 1, 'semantics': 1, 'accurately.': 1}\n"
     ]
    }
   ],
   "source": [
    "sentence = input(\"Enter a sentence: \")\n",
    "words = sentence.split()\n",
    "word_counts = {}\n",
    "for word in words:\n",
    "    if word in word_counts:\n",
    "        word_counts[word] += 1\n",
    "    else:\n",
    "        word_counts[word] = 1\n",
    "\n",
    "print(\"Dictionary of word counts:\", word_counts)"
   ]
  }
 ],
 "metadata": {
  "kernelspec": {
   "display_name": "Python 3 (ipykernel)",
   "language": "python",
   "name": "python3"
  },
  "language_info": {
   "codemirror_mode": {
    "name": "ipython",
    "version": 3
   },
   "file_extension": ".py",
   "mimetype": "text/x-python",
   "name": "python",
   "nbconvert_exporter": "python",
   "pygments_lexer": "ipython3",
   "version": "3.9.7"
  }
 },
 "nbformat": 4,
 "nbformat_minor": 5
}
